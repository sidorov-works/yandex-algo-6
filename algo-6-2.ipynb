{
 "cells": [
  {
   "cell_type": "markdown",
   "metadata": {},
   "source": [
    "## Занятие 2. Префиксные суммы и два указателя"
   ]
  },
  {
   "cell_type": "markdown",
   "metadata": {},
   "source": [
    "### A. Префиксные суммы"
   ]
  },
  {
   "cell_type": "code",
   "execution_count": 12,
   "metadata": {},
   "outputs": [
    {
     "name": "stdout",
     "output_type": "stream",
     "text": [
      "10 6 11 11 13\n"
     ]
    }
   ],
   "source": [
    "with open('input/2A_input.txt', 'r') as f:\n",
    "    # Нам не нужно значение N – игнорируем первую строку входного файла\n",
    "    f.readline() \n",
    "    nums = list(map(int, f.readline().split()))\n",
    "sum = 0\n",
    "print(*[(sum := sum + num) for num in nums])"
   ]
  },
  {
   "cell_type": "markdown",
   "metadata": {},
   "source": [
    "### B. Сумма номеров"
   ]
  },
  {
   "cell_type": "code",
   "execution_count": null,
   "metadata": {},
   "outputs": [
    {
     "name": "stdout",
     "output_type": "stream",
     "text": [
      "4\n"
     ]
    }
   ],
   "source": [
    "with open('input/2B_input.txt', 'r') as f:\n",
    "    n, k = list(map(int, f.readline().split()))\n",
    "    nums = list(map(int, f.readline().split()))\n",
    "\n",
    "# Посчитаем префиксные суммы\n",
    "sum = 0\n",
    "psum = [0] + [(sum := sum + num) for num in nums]\n",
    "\n",
    "res = 0\n",
    "\n",
    "# Для каждой левой границы с помощью бинарного поиска \n",
    "# будем находить подходящую правую границу\n",
    "for lbound in range(n):\n",
    "    l = lbound\n",
    "    r = n\n",
    "    while l <= r:\n",
    "        mid = (l + r) // 2\n",
    "        s = psum[mid] - psum[lbound]\n",
    "        if s < k:\n",
    "            l = mid + 1\n",
    "        elif s > k:\n",
    "            r = mid - 1\n",
    "        else:\n",
    "            res += 1\n",
    "            break\n",
    "\n",
    "print(res)\n"
   ]
  }
 ],
 "metadata": {
  "kernelspec": {
   "display_name": "Python 3",
   "language": "python",
   "name": "python3"
  },
  "language_info": {
   "codemirror_mode": {
    "name": "ipython",
    "version": 3
   },
   "file_extension": ".py",
   "mimetype": "text/x-python",
   "name": "python",
   "nbconvert_exporter": "python",
   "pygments_lexer": "ipython3",
   "version": "3.12.2"
  }
 },
 "nbformat": 4,
 "nbformat_minor": 2
}
