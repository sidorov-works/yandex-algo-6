{
 "cells": [
  {
   "cell_type": "markdown",
   "metadata": {},
   "source": [
    "## Занятие 2. Префиксные суммы и два указателя"
   ]
  },
  {
   "cell_type": "markdown",
   "metadata": {},
   "source": [
    "### A. Префиксные суммы"
   ]
  },
  {
   "cell_type": "code",
   "execution_count": null,
   "metadata": {
    "trusted": false
   },
   "outputs": [],
   "source": [
    "with open('input/2A_input.txt', 'r') as f:\n",
    "    # Нам не нужно значение N – игнорируем первую строку входного файла\n",
    "    f.readline() \n",
    "    nums = list(map(int, f.readline().split()))\n",
    "sum = 0\n",
    "print(*[(sum := sum + num) for num in nums])"
   ]
  },
  {
   "cell_type": "markdown",
   "metadata": {},
   "source": [
    "### B. Сумма номеров"
   ]
  },
  {
   "cell_type": "code",
   "execution_count": null,
   "metadata": {
    "trusted": false
   },
   "outputs": [],
   "source": [
    "with open('input/2B_input.txt', 'r') as f:\n",
    "    n, k = list(map(int, f.readline().split()))\n",
    "    nums = list(map(int, f.readline().split()))\n",
    "\n",
    "# Посчитаем префиксные суммы\n",
    "sum = 0\n",
    "psum = [0] + [(sum := sum + num) for num in nums]\n",
    "\n",
    "res = 0\n",
    "\n",
    "l, r = 0, 1\n",
    "\n",
    "while r <= n:\n",
    "    s = psum[r] - psum[l]\n",
    "    if s == k:\n",
    "        res += 1\n",
    "        l += 1\n",
    "        r += 1\n",
    "    elif s > k:\n",
    "        l += 1\n",
    "    else:\n",
    "        r += 1\n",
    "\n",
    "print(res)\n"
   ]
  },
  {
   "cell_type": "markdown",
   "metadata": {},
   "source": [
    "### C. Город Че"
   ]
  },
  {
   "cell_type": "code",
   "execution_count": null,
   "metadata": {
    "trusted": false
   },
   "outputs": [],
   "source": [
    "with open('input/2C_input.txt', 'r') as f:\n",
    "    n, rq_d = list(map(int, f.readline().split()))\n",
    "    d = list(map(int, f.readline().split()))\n",
    "\n",
    "res = 0\n",
    "\n",
    "l, r = 0, 1\n",
    "while r < n:\n",
    "    if d[r] - d[l] > rq_d:\n",
    "        res += n - r\n",
    "        l += 1\n",
    "    else:\n",
    "        r += 1\n",
    "\n",
    "print(res) "
   ]
  },
  {
   "cell_type": "markdown",
   "metadata": {},
   "source": [
    "### D. Лучший отдых"
   ]
  },
  {
   "cell_type": "code",
   "execution_count": null,
   "metadata": {
    "trusted": false
   },
   "outputs": [],
   "source": [
    "with open('input/2D_input.txt', 'r') as f:\n",
    "    n, k = list(map(int, f.readline().split()))\n",
    "    a = sorted(map(int, f.readline().split()))\n",
    "\n",
    "l, r = 0, 1\n",
    "m = 1\n",
    "\n",
    "while r < n:\n",
    "    if abs(a[r] - a[l]) > k:\n",
    "        l += 1\n",
    "    r += 1\n",
    "    m = max(m, r - l)\n",
    "print(m)"
   ]
  },
  {
   "cell_type": "markdown",
   "metadata": {},
   "source": [
    "### E. Удаление медиан"
   ]
  },
  {
   "cell_type": "code",
   "execution_count": null,
   "metadata": {
    "trusted": false
   },
   "outputs": [],
   "source": [
    "with open('input/2E_input.txt', 'r') as f:\n",
    "    n = int(f.readline())\n",
    "    a = sorted(map(int, f.readline().split()))\n",
    "\n",
    "l = (n - 1) // 2\n",
    "r = n // 2\n",
    "same = l == r\n",
    "removed = 0\n",
    "res = []\n",
    "while removed < n:\n",
    "    removed += 1\n",
    "    res.append(a[l])\n",
    "    if same:\n",
    "        l -= removed\n",
    "        r += 1\n",
    "    else:\n",
    "        l = r\n",
    "    same = not same\n",
    "\n",
    "print(*res)"
   ]
  },
  {
   "cell_type": "markdown",
   "metadata": {},
   "source": [
    "### H. Переезд в опенспейс"
   ]
  },
  {
   "cell_type": "code",
   "execution_count": null,
   "metadata": {
    "trusted": true
   },
   "outputs": [],
   "source": [
    "with open('input/2H_input.txt', 'r') as f:\n",
    "    n = int(f.readline())\n",
    "    a = list(map(int, f.readline().split()))\n",
    "\n",
    "s = 0\n",
    "psum = [(s := s + a_i) for a_i in a]\n",
    "med_i = psum[-1] // 2\n",
    "i = 0\n",
    "while psum[i] <= med_i:\n",
    "    i += 1\n",
    "print(sum([a[j] * abs(i - j) for j in range(n)]))"
   ]
  },
  {
   "cell_type": "markdown",
   "metadata": {},
   "source": [
    "### I. Изучение алгоритмов"
   ]
  },
  {
   "cell_type": "code",
   "execution_count": null,
   "metadata": {},
   "outputs": [],
   "source": [
    "with open('input/2I_input.txt', 'r') as f:\n",
    "    n = int(f.readline())\n",
    "    a = list(map(int, f.readline().split()))\n",
    "    b = list(map(int, f.readline().split()))\n",
    "    p = list(map(int, f.readline().split()))\n",
    "\n",
    "d = dict()\n",
    "for i in range(n):\n",
    "    ab = (a[i], b[i])\n",
    "    if ab not in d:\n",
    "        d[ab] = [i + 1]\n",
    "    else:\n",
    "        d[ab].append(i + 1)\n",
    "\n",
    "a_b = list(zip(a, b))\n",
    "\n",
    "srt_a = sorted(a_b, reverse=True)\n",
    "srt_b = sorted(a_b, key=lambda x: (-x[1], -x[0]))\n",
    "\n",
    "res = []\n",
    "\n",
    "pnt_a = pnt_b = 0\n",
    "for pi in p:\n",
    "    if pi == 0:\n",
    "        while d[srt_a[pnt_a]] == []:\n",
    "            pnt_a += 1\n",
    "        res.append(d[srt_a[pnt_a]].pop(0))\n",
    "    else:\n",
    "        while d[srt_b[pnt_b]] == []:\n",
    "            pnt_b += 1\n",
    "        res.append(d[srt_b[pnt_b]].pop(0))\n",
    "\n",
    "print(*res)\n"
   ]
  },
  {
   "cell_type": "markdown",
   "metadata": {},
   "source": [
    "### J. Исследование улик"
   ]
  },
  {
   "cell_type": "code",
   "execution_count": 7,
   "metadata": {},
   "outputs": [
    {
     "name": "stdout",
     "output_type": "stream",
     "text": [
      "1 1 1 4 4 6 7\n"
     ]
    }
   ],
   "source": [
    "with open('input/2J_input.txt', 'r') as f:\n",
    "    n = int(f.readline())\n",
    "    a = list(map(int, f.readline().split()))\n",
    "    m, k = list(map(int, f.readline().split()))\n",
    "    x = list(map(int, f.readline().split()))\n",
    "\n",
    "p = [0]\n",
    "\n",
    "# Не забыть обработать n = 1\n",
    "if n > 1:\n",
    "    l, r = 0, 1\n",
    "    k_ = k\n",
    "\n",
    "    while len(p) < n:\n",
    "        if a[r - 1] < a[r]:\n",
    "            p.append(r - l)\n",
    "            r += 1\n",
    "        elif a[r - 1] > a[r]:\n",
    "            p.append(0)\n",
    "            l = r\n",
    "            r += 1\n",
    "            k_ = k\n",
    "        else: # равенство\n",
    "            k_ -= 1\n",
    "            if k_ < 0:\n",
    "                while a[l + 1] != a[l]:\n",
    "                    l += 1\n",
    "                l += 1\n",
    "                p.append(r - l)\n",
    "                r += 1\n",
    "                k_ += 1\n",
    "            else:\n",
    "                p.append(r - l)\n",
    "                r += 1\n",
    "\n",
    "res = []\n",
    "\n",
    "for xi in x:\n",
    "    res.append(xi - p[xi - 1])\n",
    "\n",
    "print(*res)"
   ]
  },
  {
   "cell_type": "markdown",
   "metadata": {},
   "source": [
    "### G. Цензурное произведение"
   ]
  },
  {
   "cell_type": "code",
   "execution_count": null,
   "metadata": {},
   "outputs": [
    {
     "name": "stdout",
     "output_type": "stream",
     "text": [
      "aab\n",
      "2\n"
     ]
    }
   ],
   "source": [
    "with open('input/2G_input.txt', 'r') as f:\n",
    "    n, c_lim = list(map(int, f.readline().split()))\n",
    "    a = f.readline()[:-1]\n",
    "\n",
    "l = r = 0\n",
    "a_cnt = 0\n",
    "b_cnt = 0\n",
    "c = 0\n",
    "res = 1\n",
    "while r < len(a):\n",
    "    if a[r] == 'a':\n",
    "        a_cnt += 1\n",
    "    elif a[r] == 'b':\n",
    "        c += a_cnt\n",
    "        b_cnt += 1\n",
    "\n",
    "    while c > c_lim:\n",
    "        if a[l] == 'a':\n",
    "            c -= b_cnt\n",
    "            a_cnt -= 1\n",
    "        elif a[l] == 'b':\n",
    "            b_cnt -= 1\n",
    "        l += 1\n",
    "\n",
    "    res = max(res, r - l + 1)\n",
    "    r += 1\n",
    "\n",
    "print(res)"
   ]
  }
 ],
 "metadata": {
  "kernelspec": {
   "display_name": "Python 3",
   "language": "python",
   "name": "python3"
  },
  "language_info": {
   "codemirror_mode": {
    "name": "ipython",
    "version": 3
   },
   "file_extension": ".py",
   "mimetype": "text/x-python",
   "name": "python",
   "nbconvert_exporter": "python",
   "pygments_lexer": "ipython3",
   "version": "3.11.2"
  }
 },
 "nbformat": 4,
 "nbformat_minor": 2
}
