{
 "cells": [
  {
   "cell_type": "markdown",
   "metadata": {},
   "source": [
    "## Занятие 2. Префиксные суммы и два указателя"
   ]
  },
  {
   "cell_type": "markdown",
   "metadata": {},
   "source": [
    "### A. Префиксные суммы"
   ]
  },
  {
   "cell_type": "code",
   "execution_count": null,
   "metadata": {
    "trusted": false
   },
   "outputs": [],
   "source": [
    "with open('input/2A_input.txt', 'r') as f:\n",
    "    # Нам не нужно значение N – игнорируем первую строку входного файла\n",
    "    f.readline() \n",
    "    nums = list(map(int, f.readline().split()))\n",
    "sum = 0\n",
    "print(*[(sum := sum + num) for num in nums])"
   ]
  },
  {
   "cell_type": "markdown",
   "metadata": {},
   "source": [
    "### B. Сумма номеров"
   ]
  },
  {
   "cell_type": "code",
   "execution_count": null,
   "metadata": {
    "trusted": false
   },
   "outputs": [],
   "source": [
    "with open('input/2B_input.txt', 'r') as f:\n",
    "    n, k = list(map(int, f.readline().split()))\n",
    "    nums = list(map(int, f.readline().split()))\n",
    "\n",
    "# Посчитаем префиксные суммы\n",
    "sum = 0\n",
    "psum = [0] + [(sum := sum + num) for num in nums]\n",
    "\n",
    "res = 0\n",
    "\n",
    "l, r = 0, 1\n",
    "\n",
    "while r <= n:\n",
    "    s = psum[r] - psum[l]\n",
    "    if s == k:\n",
    "        res += 1\n",
    "        l += 1\n",
    "        r += 1\n",
    "    elif s > k:\n",
    "        l += 1\n",
    "    else:\n",
    "        r += 1\n",
    "\n",
    "print(res)\n"
   ]
  },
  {
   "cell_type": "markdown",
   "metadata": {},
   "source": [
    "### C. Город Че"
   ]
  },
  {
   "cell_type": "code",
   "execution_count": null,
   "metadata": {
    "trusted": false
   },
   "outputs": [],
   "source": [
    "with open('input/2C_input.txt', 'r') as f:\n",
    "    n, rq_d = list(map(int, f.readline().split()))\n",
    "    d = list(map(int, f.readline().split()))\n",
    "\n",
    "res = 0\n",
    "\n",
    "l, r = 0, 1\n",
    "while r < n:\n",
    "    if d[r] - d[l] > rq_d:\n",
    "        res += n - r\n",
    "        l += 1\n",
    "    else:\n",
    "        r += 1\n",
    "\n",
    "print(res) "
   ]
  },
  {
   "cell_type": "markdown",
   "metadata": {},
   "source": [
    "### D. Лучший отдых"
   ]
  },
  {
   "cell_type": "code",
   "execution_count": 8,
   "metadata": {
    "trusted": true
   },
   "outputs": [
    {
     "name": "stdout",
     "output_type": "stream",
     "text": [
      "3\n"
     ]
    }
   ],
   "source": [
    "with open('input/2D_input.txt', 'r') as f:\n",
    "    n, k = list(map(int, f.readline().split()))\n",
    "    a = sorted(map(int, f.readline().split()))\n",
    "\n",
    "l, r = 0, 1\n",
    "m = 1\n",
    "\n",
    "while r < n:\n",
    "    if abs(a[r] - a[l]) > k:\n",
    "        l += 1\n",
    "    r += 1\n",
    "    m = max(m, r - l)\n",
    "print(m)"
   ]
  },
  {
   "cell_type": "markdown",
   "metadata": {},
   "source": [
    "### E. Удаление медиан"
   ]
  },
  {
   "cell_type": "code",
   "execution_count": 25,
   "metadata": {},
   "outputs": [
    {
     "name": "stdout",
     "output_type": "stream",
     "text": [
      "8 3 19\n"
     ]
    }
   ],
   "source": [
    "with open('input/2E_input.txt', 'r') as f:\n",
    "    n = int(f.readline())\n",
    "    a = sorted(map(int, f.readline().split()))\n",
    "\n",
    "l = (n - 1) // 2\n",
    "r = n // 2\n",
    "same = l == r\n",
    "removed = 0\n",
    "res = []\n",
    "while removed < n:\n",
    "    removed += 1\n",
    "    res.append(a[l])\n",
    "    if same:\n",
    "        l -= removed\n",
    "        r += 1\n",
    "    else:\n",
    "        l = r\n",
    "    same = not same\n",
    "\n",
    "print(*res)"
   ]
  }
 ],
 "metadata": {
  "kernelspec": {
   "display_name": "Python 3",
   "language": "python",
   "name": "python3"
  },
  "language_info": {
   "codemirror_mode": {
    "name": "ipython",
    "version": 3
   },
   "file_extension": ".py",
   "mimetype": "text/x-python",
   "name": "python",
   "nbconvert_exporter": "python",
   "pygments_lexer": "ipython3",
   "version": "3.11.2"
  }
 },
 "nbformat": 4,
 "nbformat_minor": 2
}
